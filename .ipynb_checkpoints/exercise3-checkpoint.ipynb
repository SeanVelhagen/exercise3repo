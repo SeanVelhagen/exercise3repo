{
 "cells": [
  {
   "cell_type": "code",
   "execution_count": 1,
   "metadata": {},
   "outputs": [],
   "source": [
    "import os\n",
    "import imageio\n",
    "import cv2 as cv\n",
    "import math\n",
    "from matplotlib import image as mpimg"
   ]
  },
  {
   "cell_type": "code",
   "execution_count": 2,
   "metadata": {},
   "outputs": [],
   "source": [
    "faceCasc = cv.CascadeClassifier('/home/sean/\\\n",
    "anaconda3/lib/python3.7/site-packages/cv2/data/haarcascade_frontalface_default.xml')"
   ]
  },
  {
   "cell_type": "code",
   "execution_count": 3,
   "metadata": {},
   "outputs": [],
   "source": [
    "def extractFaces (loadDir, saveDir):\n",
    "    imgs = os.listdir(loadDir)\n",
    "    i = 0\n",
    "    for img in imgs:\n",
    "        curImg = mpimg.imread(loadDir + '/' + img)\n",
    "        grayImg = cv.cvtColor(curImg, cv.COLOR_BGR2GRAY)\n",
    "        faces = faceCasc.detectMultiScale(grayImg, 1.3, 5)\n",
    "        for (x, y, width, height) in faces:\n",
    "            crop = curImg[y:y + height, x:x + width]\n",
    "            face = cv.resize(crop, (50, 50), interpolation = cv.INTER_AREA)\n",
    "            imageio.imwrite(saveDir + '/extracted_face_' + str(i) + '.jpg', face)\n",
    "            i += 1\n",
    "    del i\n",
    "    del img\n",
    "    del imgs\n",
    "    del curImg\n",
    "    del grayImg\n",
    "    del faces\n",
    "    del crop\n",
    "    del face\n",
    "    print('All done! (extractFaces)')"
   ]
  },
  {
   "cell_type": "code",
   "execution_count": 4,
   "metadata": {},
   "outputs": [
    {
     "name": "stdout",
     "output_type": "stream",
     "text": [
      "Enter the directory in which the pictures are located: /home/sean/faces\n"
     ]
    }
   ],
   "source": [
    "dir1 = input('Enter the directory in which the pictures are located: ')"
   ]
  },
  {
   "cell_type": "code",
   "execution_count": 5,
   "metadata": {},
   "outputs": [
    {
     "name": "stdout",
     "output_type": "stream",
     "text": [
      "Enter the directory in which you would like to save the pictures.\n",
      "(You may enter the same directory as before if you wish): /home/sean/Pictures\n"
     ]
    }
   ],
   "source": [
    "print('Enter the directory in which you would like to save the pictures.')\n",
    "dir2 = input('(You may enter the same directory as before if you wish): ')"
   ]
  },
  {
   "cell_type": "code",
   "execution_count": 6,
   "metadata": {},
   "outputs": [
    {
     "name": "stdout",
     "output_type": "stream",
     "text": [
      "All done! (extractFaces)\n"
     ]
    }
   ],
   "source": [
    "extractFaces(dir1, dir2)"
   ]
  },
  {
   "cell_type": "code",
   "execution_count": null,
   "metadata": {},
   "outputs": [],
   "source": []
  }
 ],
 "metadata": {
  "kernelspec": {
   "display_name": "Python 3",
   "language": "python",
   "name": "python3"
  },
  "language_info": {
   "codemirror_mode": {
    "name": "ipython",
    "version": 3
   },
   "file_extension": ".py",
   "mimetype": "text/x-python",
   "name": "python",
   "nbconvert_exporter": "python",
   "pygments_lexer": "ipython3",
   "version": "3.7.3"
  }
 },
 "nbformat": 4,
 "nbformat_minor": 2
}
